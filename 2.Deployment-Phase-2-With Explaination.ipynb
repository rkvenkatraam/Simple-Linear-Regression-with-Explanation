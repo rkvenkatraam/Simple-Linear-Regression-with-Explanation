{
 "cells": [
  {
   "cell_type": "code",
   "execution_count": 1,
   "id": "0836a7f3",
   "metadata": {},
   "outputs": [],
   "source": [
    "# Pickle library imported\n",
    "import pickle"
   ]
  },
  {
   "cell_type": "code",
   "execution_count": 14,
   "id": "a53b603d",
   "metadata": {},
   "outputs": [
    {
     "name": "stderr",
     "output_type": "stream",
     "text": [
      "C:\\Anaconda3\\Lib\\site-packages\\sklearn\\base.py:464: UserWarning: X does not have valid feature names, but LinearRegression was fitted with feature names\n",
      "  warnings.warn(\n"
     ]
    }
   ],
   "source": [
    "#The prediction model loaded\n",
    "loaded_model = pickle.load(open(\"finalized_model_linear.sav\", 'rb'))\n",
    "result = loaded_model.predict([[25]])\n",
    "#result = loaded_model.predict(int(input (\"enter value : \")))"
   ]
  },
  {
   "cell_type": "code",
   "execution_count": 16,
   "id": "9a0dec4e",
   "metadata": {},
   "outputs": [
    {
     "data": {
      "text/plain": [
       "array([[260783.92349604]])"
      ]
     },
     "execution_count": 16,
     "metadata": {},
     "output_type": "execute_result"
    }
   ],
   "source": [
    "#To visualize the predicted value\n",
    "result"
   ]
  },
  {
   "cell_type": "code",
   "execution_count": null,
   "id": "8451752c",
   "metadata": {},
   "outputs": [],
   "source": []
  },
  {
   "cell_type": "code",
   "execution_count": null,
   "id": "7dc3e759",
   "metadata": {},
   "outputs": [],
   "source": []
  }
 ],
 "metadata": {
  "kernelspec": {
   "display_name": "Python 3 (ipykernel)",
   "language": "python",
   "name": "python3"
  },
  "language_info": {
   "codemirror_mode": {
    "name": "ipython",
    "version": 3
   },
   "file_extension": ".py",
   "mimetype": "text/x-python",
   "name": "python",
   "nbconvert_exporter": "python",
   "pygments_lexer": "ipython3",
   "version": "3.11.5"
  }
 },
 "nbformat": 4,
 "nbformat_minor": 5
}
